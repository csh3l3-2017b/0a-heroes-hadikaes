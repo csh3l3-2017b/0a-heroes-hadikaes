{
 "cells": [
  {
   "cell_type": "code",
   "execution_count": 82,
   "metadata": {},
   "outputs": [],
   "source": [
    "# Nama : Hadi Kurniawan Sidiq\n",
    "# Nim  : 1301178422\n",
    "# Kelas: IF-41-GAB02\n",
    "\n",
    "# tambahkan library csv untuk membaca file csv\n",
    "import csv \n",
    "# membuat array dengan nama penampung untuk menampung data yang akan di susun ulang dan dibuat perbaris pada file csv menjadi per-list\n",
    "# penampung = []\n",
    "# membuka file test.csv dan membuat aliasnya dengan nama filetampungan\n",
    "with open('./test.csv') as filetampungan:\n",
    "# membaca file test.csv yang sudah kita ubah menjadi filetampungan\n",
    "    data = csv.reader(filetampungan)\n",
    "# membuat membuat variable penampung untuk menampung list data yang sudah disusun ulang\n",
    "    penampung = list(data)\n",
    "#menyiapkan array prediction untuk menampung list yang sudah di update    \n",
    "prediction = []\n",
    "prediction.insert(0, ['name', 'role'])\n",
    "# melakukan looping list dan mengecek berdasarkan syarat hero yang ditentukan dan memasukan ke array prediction yang sudah dibuat\n",
    "a = 1\n",
    "b = len(penampung)\n",
    "while (a < b):\n",
    "    if int(penampung[a][1]) >= 270:\n",
    "        prediction.append([penampung[a][0], 'marksman'])\n",
    "    elif int(penampung[a][5]) >= 500:\n",
    "        prediction.append([penampung[a][0], 'mage'])\n",
    "    elif int(penampung[a][3]) >= 25:\n",
    "        prediction.append([penampung[a][0], 'tank'])\n",
    "    elif int(penampung[a][2]) >= 121:\n",
    "        prediction.append([penampung[a][0], 'assassin'])\n",
    "    elif int(penampung[a][4]) >= 2580:\n",
    "        prediction.append([penampung[a][0], 'fighter'])\n",
    "    else:\n",
    "        prediction.append([penampung[a][0], 'support'])\n",
    "    a = a + 1\n",
    "# menulis hasil prediction ke dalam prediction.csv\n",
    "with open('./prediction.csv', 'w', newline='') as filebaru:\n",
    "    data2 = csv.writer(filebaru)\n",
    "    for x in range(len(prediction)):\n",
    "        data2.writerow(prediction[x])"
   ]
  },
  {
   "cell_type": "code",
   "execution_count": null,
   "metadata": {
    "collapsed": true
   },
   "outputs": [],
   "source": []
  }
 ],
 "metadata": {
  "kernelspec": {
   "display_name": "Python 3",
   "language": "python",
   "name": "python3"
  },
  "language_info": {
   "codemirror_mode": {
    "name": "ipython",
    "version": 3
   },
   "file_extension": ".py",
   "mimetype": "text/x-python",
   "name": "python",
   "nbconvert_exporter": "python",
   "pygments_lexer": "ipython3",
   "version": "3.6.3"
  }
 },
 "nbformat": 4,
 "nbformat_minor": 2
}
